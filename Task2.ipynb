{
 "cells": [
  {
   "cell_type": "code",
   "execution_count": 1,
   "id": "b31ba2a0",
   "metadata": {},
   "outputs": [],
   "source": [
    "\n",
    "import numpy as np\n",
    "from sklearn.cluster import KMeans\n",
    "import cv2\n",
    "import webcolors\n",
    "\n",
    "def color_detector(image_path, num_colors):\n",
    "    # Load the image using OpenCV\n",
    "    image = cv2.imread(image_path)\n",
    "\n",
    "    # Convert the image from BGR to RGB format\n",
    "    image = cv2.cvtColor(image, cv2.COLOR_BGR2RGB)\n",
    "\n",
    "    # Reshape the image to a 2D array of pixels\n",
    "    pixels = image.reshape(-1, 3)\n",
    "\n",
    "    # Apply K-means clustering to identify dominant colors\n",
    "    kmeans = KMeans(n_clusters=num_colors)\n",
    "    kmeans.fit(pixels)\n",
    "\n",
    "    # Get the RGB values of the cluster centers\n",
    "    colors = kmeans.cluster_centers_\n",
    "\n",
    "    # Convert the RGB values to integers\n",
    "    colors = colors.astype(int)\n",
    "    color_name = webcolors.rgb_to_name(colors)\n",
    "\n",
    "    return color_name\n",
    "\n",
    "\n"
   ]
  },
  {
   "cell_type": "code",
   "execution_count": 2,
   "id": "874238d5",
   "metadata": {},
   "outputs": [
    {
     "name": "stderr",
     "output_type": "stream",
     "text": [
      "C:\\ProgramData\\anaconda3\\lib\\site-packages\\sklearn\\cluster\\_kmeans.py:870: FutureWarning: The default value of `n_init` will change from 10 to 'auto' in 1.4. Set the value of `n_init` explicitly to suppress the warning\n",
      "  warnings.warn(\n"
     ]
    },
    {
     "ename": "ValueError",
     "evalue": "The truth value of an array with more than one element is ambiguous. Use a.any() or a.all()",
     "output_type": "error",
     "traceback": [
      "\u001b[1;31m---------------------------------------------------------------------------\u001b[0m",
      "\u001b[1;31mValueError\u001b[0m                                Traceback (most recent call last)",
      "Cell \u001b[1;32mIn[2], line 5\u001b[0m\n\u001b[0;32m      2\u001b[0m image_path \u001b[38;5;241m=\u001b[39m \u001b[38;5;124m'\u001b[39m\u001b[38;5;124mlegos.jpg\u001b[39m\u001b[38;5;124m'\u001b[39m\n\u001b[0;32m      3\u001b[0m num_colors \u001b[38;5;241m=\u001b[39m \u001b[38;5;241m5\u001b[39m\n\u001b[1;32m----> 5\u001b[0m colors \u001b[38;5;241m=\u001b[39m \u001b[43mcolor_detector\u001b[49m\u001b[43m(\u001b[49m\u001b[43mimage_path\u001b[49m\u001b[43m,\u001b[49m\u001b[43m \u001b[49m\u001b[43mnum_colors\u001b[49m\u001b[43m)\u001b[49m\n\u001b[0;32m      6\u001b[0m \u001b[38;5;28mprint\u001b[39m(colors)\n",
      "Cell \u001b[1;32mIn[1], line 25\u001b[0m, in \u001b[0;36mcolor_detector\u001b[1;34m(image_path, num_colors)\u001b[0m\n\u001b[0;32m     23\u001b[0m \u001b[38;5;66;03m# Convert the RGB values to integers\u001b[39;00m\n\u001b[0;32m     24\u001b[0m colors \u001b[38;5;241m=\u001b[39m colors\u001b[38;5;241m.\u001b[39mastype(\u001b[38;5;28mint\u001b[39m)\n\u001b[1;32m---> 25\u001b[0m color_name \u001b[38;5;241m=\u001b[39m \u001b[43mwebcolors\u001b[49m\u001b[38;5;241;43m.\u001b[39;49m\u001b[43mrgb_to_name\u001b[49m\u001b[43m(\u001b[49m\u001b[43mcolors\u001b[49m\u001b[43m)\u001b[49m\n\u001b[0;32m     27\u001b[0m \u001b[38;5;28;01mreturn\u001b[39;00m color_name\n",
      "File \u001b[1;32mC:\\ProgramData\\anaconda3\\lib\\site-packages\\webcolors\\conversion.py:240\u001b[0m, in \u001b[0;36mrgb_to_name\u001b[1;34m(rgb_triplet, spec)\u001b[0m\n\u001b[0;32m    207\u001b[0m \u001b[38;5;28;01mdef\u001b[39;00m \u001b[38;5;21mrgb_to_name\u001b[39m(rgb_triplet: types\u001b[38;5;241m.\u001b[39mIntTuple, spec: \u001b[38;5;28mstr\u001b[39m \u001b[38;5;241m=\u001b[39m constants\u001b[38;5;241m.\u001b[39mCSS3) \u001b[38;5;241m-\u001b[39m\u001b[38;5;241m>\u001b[39m \u001b[38;5;28mstr\u001b[39m:\n\u001b[0;32m    208\u001b[0m     \u001b[38;5;124;03m\"\"\"\u001b[39;00m\n\u001b[0;32m    209\u001b[0m \u001b[38;5;124;03m    Convert a 3-:class:`tuple` of :class:`int`, suitable for use in an ``rgb()``\u001b[39;00m\n\u001b[0;32m    210\u001b[0m \u001b[38;5;124;03m    color triplet, to its corresponding normalized color name, if any\u001b[39;00m\n\u001b[1;32m   (...)\u001b[0m\n\u001b[0;32m    237\u001b[0m \n\u001b[0;32m    238\u001b[0m \u001b[38;5;124;03m    \"\"\"\u001b[39;00m\n\u001b[0;32m    239\u001b[0m     \u001b[38;5;28;01mreturn\u001b[39;00m hex_to_name(\n\u001b[1;32m--> 240\u001b[0m         rgb_to_hex(\u001b[43mnormalization\u001b[49m\u001b[38;5;241;43m.\u001b[39;49m\u001b[43mnormalize_integer_triplet\u001b[49m\u001b[43m(\u001b[49m\u001b[43mrgb_triplet\u001b[49m\u001b[43m)\u001b[49m), spec\u001b[38;5;241m=\u001b[39mspec\n\u001b[0;32m    241\u001b[0m     )\n",
      "File \u001b[1;32mC:\\ProgramData\\anaconda3\\lib\\site-packages\\webcolors\\normalization.py:85\u001b[0m, in \u001b[0;36mnormalize_integer_triplet\u001b[1;34m(rgb_triplet)\u001b[0m\n\u001b[0;32m     62\u001b[0m \u001b[38;5;28;01mdef\u001b[39;00m \u001b[38;5;21mnormalize_integer_triplet\u001b[39m(\n\u001b[0;32m     63\u001b[0m     rgb_triplet: types\u001b[38;5;241m.\u001b[39mIntTuple,\n\u001b[0;32m     64\u001b[0m ) \u001b[38;5;241m-\u001b[39m\u001b[38;5;241m>\u001b[39m types\u001b[38;5;241m.\u001b[39mIntegerRGB:\n\u001b[0;32m     65\u001b[0m     \u001b[38;5;124;03m\"\"\"\u001b[39;00m\n\u001b[0;32m     66\u001b[0m \u001b[38;5;124;03m    Normalize an integer ``rgb()`` triplet so that all values are\u001b[39;00m\n\u001b[0;32m     67\u001b[0m \u001b[38;5;124;03m    within the range 0..255.\u001b[39;00m\n\u001b[1;32m   (...)\u001b[0m\n\u001b[0;32m     83\u001b[0m \n\u001b[0;32m     84\u001b[0m \u001b[38;5;124;03m    \"\"\"\u001b[39;00m\n\u001b[1;32m---> 85\u001b[0m     \u001b[38;5;28;01mreturn\u001b[39;00m \u001b[43mtypes\u001b[49m\u001b[38;5;241;43m.\u001b[39;49m\u001b[43mIntegerRGB\u001b[49m\u001b[38;5;241;43m.\u001b[39;49m\u001b[43m_make\u001b[49m\u001b[43m(\u001b[49m\n\u001b[0;32m     86\u001b[0m \u001b[43m        \u001b[49m\u001b[43m_normalize_integer_rgb\u001b[49m\u001b[43m(\u001b[49m\u001b[43mvalue\u001b[49m\u001b[43m)\u001b[49m\u001b[43m \u001b[49m\u001b[38;5;28;43;01mfor\u001b[39;49;00m\u001b[43m \u001b[49m\u001b[43mvalue\u001b[49m\u001b[43m \u001b[49m\u001b[38;5;129;43;01min\u001b[39;49;00m\u001b[43m \u001b[49m\u001b[43mrgb_triplet\u001b[49m\n\u001b[0;32m     87\u001b[0m \u001b[43m    \u001b[49m\u001b[43m)\u001b[49m\n",
      "File \u001b[1;32mC:\\ProgramData\\anaconda3\\lib\\collections\\__init__.py:422\u001b[0m, in \u001b[0;36mnamedtuple.<locals>._make\u001b[1;34m(cls, iterable)\u001b[0m\n\u001b[0;32m    420\u001b[0m \u001b[38;5;129m@classmethod\u001b[39m\n\u001b[0;32m    421\u001b[0m \u001b[38;5;28;01mdef\u001b[39;00m \u001b[38;5;21m_make\u001b[39m(\u001b[38;5;28mcls\u001b[39m, iterable):\n\u001b[1;32m--> 422\u001b[0m     result \u001b[38;5;241m=\u001b[39m \u001b[43mtuple_new\u001b[49m\u001b[43m(\u001b[49m\u001b[38;5;28;43mcls\u001b[39;49m\u001b[43m,\u001b[49m\u001b[43m \u001b[49m\u001b[43miterable\u001b[49m\u001b[43m)\u001b[49m\n\u001b[0;32m    423\u001b[0m     \u001b[38;5;28;01mif\u001b[39;00m _len(result) \u001b[38;5;241m!=\u001b[39m num_fields:\n\u001b[0;32m    424\u001b[0m         \u001b[38;5;28;01mraise\u001b[39;00m \u001b[38;5;167;01mTypeError\u001b[39;00m(\u001b[38;5;124mf\u001b[39m\u001b[38;5;124m'\u001b[39m\u001b[38;5;124mExpected \u001b[39m\u001b[38;5;132;01m{\u001b[39;00mnum_fields\u001b[38;5;132;01m}\u001b[39;00m\u001b[38;5;124m arguments, got \u001b[39m\u001b[38;5;132;01m{\u001b[39;00m\u001b[38;5;28mlen\u001b[39m(result)\u001b[38;5;132;01m}\u001b[39;00m\u001b[38;5;124m'\u001b[39m)\n",
      "File \u001b[1;32mC:\\ProgramData\\anaconda3\\lib\\site-packages\\webcolors\\normalization.py:86\u001b[0m, in \u001b[0;36m<genexpr>\u001b[1;34m(.0)\u001b[0m\n\u001b[0;32m     62\u001b[0m \u001b[38;5;28;01mdef\u001b[39;00m \u001b[38;5;21mnormalize_integer_triplet\u001b[39m(\n\u001b[0;32m     63\u001b[0m     rgb_triplet: types\u001b[38;5;241m.\u001b[39mIntTuple,\n\u001b[0;32m     64\u001b[0m ) \u001b[38;5;241m-\u001b[39m\u001b[38;5;241m>\u001b[39m types\u001b[38;5;241m.\u001b[39mIntegerRGB:\n\u001b[0;32m     65\u001b[0m     \u001b[38;5;124;03m\"\"\"\u001b[39;00m\n\u001b[0;32m     66\u001b[0m \u001b[38;5;124;03m    Normalize an integer ``rgb()`` triplet so that all values are\u001b[39;00m\n\u001b[0;32m     67\u001b[0m \u001b[38;5;124;03m    within the range 0..255.\u001b[39;00m\n\u001b[1;32m   (...)\u001b[0m\n\u001b[0;32m     83\u001b[0m \n\u001b[0;32m     84\u001b[0m \u001b[38;5;124;03m    \"\"\"\u001b[39;00m\n\u001b[0;32m     85\u001b[0m     \u001b[38;5;28;01mreturn\u001b[39;00m types\u001b[38;5;241m.\u001b[39mIntegerRGB\u001b[38;5;241m.\u001b[39m_make(\n\u001b[1;32m---> 86\u001b[0m         \u001b[43m_normalize_integer_rgb\u001b[49m\u001b[43m(\u001b[49m\u001b[43mvalue\u001b[49m\u001b[43m)\u001b[49m \u001b[38;5;28;01mfor\u001b[39;00m value \u001b[38;5;129;01min\u001b[39;00m rgb_triplet\n\u001b[0;32m     87\u001b[0m     )\n",
      "File \u001b[1;32mC:\\ProgramData\\anaconda3\\lib\\site-packages\\webcolors\\normalization.py:59\u001b[0m, in \u001b[0;36m_normalize_integer_rgb\u001b[1;34m(value)\u001b[0m\n\u001b[0;32m     53\u001b[0m \u001b[38;5;28;01mdef\u001b[39;00m \u001b[38;5;21m_normalize_integer_rgb\u001b[39m(value: \u001b[38;5;28mint\u001b[39m) \u001b[38;5;241m-\u001b[39m\u001b[38;5;241m>\u001b[39m \u001b[38;5;28mint\u001b[39m:\n\u001b[0;32m     54\u001b[0m     \u001b[38;5;124;03m\"\"\"\u001b[39;00m\n\u001b[0;32m     55\u001b[0m \u001b[38;5;124;03m    Internal normalization function for clipping integer values into\u001b[39;00m\n\u001b[0;32m     56\u001b[0m \u001b[38;5;124;03m    the permitted range (0-255, inclusive).\u001b[39;00m\n\u001b[0;32m     57\u001b[0m \n\u001b[0;32m     58\u001b[0m \u001b[38;5;124;03m    \"\"\"\u001b[39;00m\n\u001b[1;32m---> 59\u001b[0m     \u001b[38;5;28;01mreturn\u001b[39;00m \u001b[38;5;241m0\u001b[39m \u001b[38;5;28;01mif\u001b[39;00m \u001b[43mvalue\u001b[49m\u001b[43m \u001b[49m\u001b[38;5;241;43m<\u001b[39;49m\u001b[43m \u001b[49m\u001b[38;5;241;43m0\u001b[39;49m \u001b[38;5;28;01melse\u001b[39;00m \u001b[38;5;241m255\u001b[39m \u001b[38;5;28;01mif\u001b[39;00m value \u001b[38;5;241m>\u001b[39m \u001b[38;5;241m255\u001b[39m \u001b[38;5;28;01melse\u001b[39;00m value\n",
      "\u001b[1;31mValueError\u001b[0m: The truth value of an array with more than one element is ambiguous. Use a.any() or a.all()"
     ]
    }
   ],
   "source": [
    "# Example usage\n",
    "image_path = 'legos.jpg'\n",
    "num_colors = 5\n",
    "\n",
    "colors = color_detector(image_path, num_colors)\n",
    "print(colors)"
   ]
  },
  {
   "cell_type": "code",
   "execution_count": null,
   "id": "dcc6ed32",
   "metadata": {},
   "outputs": [],
   "source": []
  }
 ],
 "metadata": {
  "kernelspec": {
   "display_name": "Python 3 (ipykernel)",
   "language": "python",
   "name": "python3"
  },
  "language_info": {
   "codemirror_mode": {
    "name": "ipython",
    "version": 3
   },
   "file_extension": ".py",
   "mimetype": "text/x-python",
   "name": "python",
   "nbconvert_exporter": "python",
   "pygments_lexer": "ipython3",
   "version": "3.10.9"
  }
 },
 "nbformat": 4,
 "nbformat_minor": 5
}
